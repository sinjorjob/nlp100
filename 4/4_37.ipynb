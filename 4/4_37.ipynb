{
 "cells": [
  {
   "cell_type": "code",
   "execution_count": 2,
   "metadata": {},
   "outputs": [],
   "source": [
    "# coding: utf-8\n",
    "# 出現頻度が高い10語とその出現頻度をグラフ（例えば棒グラフなど）で表示せよ．\n",
    "\n",
    "from janome.tokenizer import Tokenizer\n",
    "import janome\n",
    "from collections import defaultdict\n",
    "\n",
    "#ファイルを整形する。\n",
    "# 形態素はタブ区切り、品詞等の分類はカンマ区切りなので以下の形式に整形したファイルを生成する。\n",
    "\n",
    "\n",
    "with open ('neko.txt.janome-01','r',encoding='utf-8') as f:\n",
    "    text = f.readlines()\n",
    "\n",
    "lst_janome=[]\n",
    "for line in text:\n",
    "    lst_janome.append(\n",
    "        { 'surface': line.split('\\t')[0], # 表層形\n",
    "          'pos'    : line.split('\\t')[1].split(',')[0], # 品詞\n",
    "          'pos1'   : line.split('\\t')[1].split(',')[1], # 品詞細分類1\n",
    "          'base'   : line.split('\\t')[1].split(',')[6]   # 基本形\n",
    "        })\n",
    "\n",
    "\n",
    "\"\"\"\n",
    "lst_janomeには以下のようなリストデータが生成される\n",
    "\n",
    "{'surface': '一', 'pos': '名詞', 'pos1': '数', 'base': '一'}\n",
    "{'surface': '吾輩', 'pos': '名詞', 'pos1': '代名詞', 'base': '吾輩'}\n",
    "{'surface': 'は', 'pos': '助詞', 'pos1': '係助詞', 'base': 'は'}\n",
    "{'surface': '猫', 'pos': '名詞', 'pos1': '一般', 'base': '猫'}\n",
    "{'surface': 'で', 'pos': '助動詞', 'pos1': '*', 'base': 'だ'}\n",
    "{'surface': 'ある', 'pos': '助動詞', 'pos1': '*', 'base': 'ある'}\n",
    "\n",
    "\"\"\"\n",
    "\n",
    "count_dict = defaultdict(int)\n",
    "\n",
    "\n",
    "for row in lst_janome:\n",
    "    count_dict[row['surface']] += 1   #該当単語のcount_dictのカウントを＋１する。\n",
    "    \n",
    "\n",
    "    \"\"\" \n",
    "    lambda関数とsortedを組み合わせてcount_dictの値でソート。\n",
    "    reverse=Trueで降順指定。\n",
    "    x[1]で辞書の値を指定。\n",
    "    \"\"\"\n",
    "\n",
    "result = []\n",
    "for k, v in sorted(count_dict.items(), key=lambda x: x[1], reverse=True):\n",
    "    result.append({k:v})\n",
    "\n",
    "\n"
   ]
  },
  {
   "cell_type": "code",
   "execution_count": 79,
   "metadata": {},
   "outputs": [
    {
     "data": {
      "text/plain": [
       "[{'の': 9194},\n",
       " {'。': 7486},\n",
       " {'て': 6865},\n",
       " {'、': 6772},\n",
       " {'は': 6420},\n",
       " {'に': 6239},\n",
       " {'を': 6067},\n",
       " {'と': 5505},\n",
       " {'が': 5336},\n",
       " {'た': 3988}]"
      ]
     },
     "execution_count": 79,
     "metadata": {},
     "output_type": "execute_result"
    }
   ],
   "source": [
    "result[0:10]"
   ]
  },
  {
   "cell_type": "code",
   "execution_count": 74,
   "metadata": {},
   "outputs": [],
   "source": [
    "lst_words = [] \n",
    "lst_count = []\n",
    "\n",
    "for i in result[0:10]:\n",
    "    key, cnt = str(i).strip('{').strip('}').replace(\"'\",\"\").replace(\" \",\"\").split(':')\n",
    "    lst_words.append(key)\n",
    "    lst_count.append(int(cnt))"
   ]
  },
  {
   "cell_type": "code",
   "execution_count": 75,
   "metadata": {},
   "outputs": [
    {
     "data": {
      "text/plain": [
       "['の', '。', 'て', '、', 'は', 'に', 'を', 'と', 'が', 'た']"
      ]
     },
     "execution_count": 75,
     "metadata": {},
     "output_type": "execute_result"
    }
   ],
   "source": [
    "lst_words"
   ]
  },
  {
   "cell_type": "code",
   "execution_count": 76,
   "metadata": {},
   "outputs": [
    {
     "data": {
      "text/plain": [
       "[9194, 7486, 6865, 6772, 6420, 6239, 6067, 5505, 5336, 3988]"
      ]
     },
     "execution_count": 76,
     "metadata": {},
     "output_type": "execute_result"
    }
   ],
   "source": [
    "lst_count"
   ]
  },
  {
   "cell_type": "code",
   "execution_count": 78,
   "metadata": {},
   "outputs": [
    {
     "data": {
      "image/png": "[encoded data removed]",
      "text/plain": [
       "<Figure size 432x288 with 1 Axes>"
      ]
     },
     "metadata": {},
     "output_type": "display_data"
    }
   ],
   "source": [
    "import matplotlib.pyplot as plt\n",
    "import japanize_matplotlib\n",
    "\n",
    "fig, ax = plt.subplots()\n",
    "fig.suptitle(\"出現頻度が高い10語とその出現頻度\")\n",
    "x = lst_words\n",
    "y = lst_count\n",
    "ax.bar(x,y)\n",
    "plt.show()\n"
   ]
  },
  {
   "cell_type": "code",
   "execution_count": 89,
   "metadata": {},
   "outputs": [
    {
     "ename": "AttributeError",
     "evalue": "module 'matplotlib.pyplot' has no attribute 'set_xlabel'",
     "output_type": "error",
     "traceback": [
      "\u001b[1;31m---------------------------------------------------------------------------\u001b[0m",
      "\u001b[1;31mAttributeError\u001b[0m                            Traceback (most recent call last)",
      "\u001b[1;32m<ipython-input-89-094005d42d1f>\u001b[0m in \u001b[0;36m<module>\u001b[1;34m()\u001b[0m\n\u001b[0;32m      5\u001b[0m \u001b[0mx\u001b[0m \u001b[1;33m=\u001b[0m \u001b[0mnp\u001b[0m\u001b[1;33m.\u001b[0m\u001b[0mrandom\u001b[0m\u001b[1;33m.\u001b[0m\u001b[0mnormal\u001b[0m\u001b[1;33m(\u001b[0m\u001b[1;36m50\u001b[0m\u001b[1;33m,\u001b[0m \u001b[1;36m10\u001b[0m\u001b[1;33m,\u001b[0m \u001b[1;36m1000\u001b[0m\u001b[1;33m)\u001b[0m\u001b[1;33m\u001b[0m\u001b[0m\n\u001b[0;32m      6\u001b[0m \u001b[0mplt\u001b[0m\u001b[1;33m.\u001b[0m\u001b[0mhist\u001b[0m\u001b[1;33m(\u001b[0m\u001b[0mx\u001b[0m\u001b[1;33m,\u001b[0m\u001b[0mbins\u001b[0m\u001b[1;33m=\u001b[0m\u001b[1;36m20\u001b[0m\u001b[1;33m)\u001b[0m\u001b[1;33m\u001b[0m\u001b[0m\n\u001b[1;32m----> 7\u001b[1;33m \u001b[0mplt\u001b[0m\u001b[1;33m.\u001b[0m\u001b[0mset_xlabel\u001b[0m\u001b[1;33m(\u001b[0m\u001b[1;34m'頻出数'\u001b[0m\u001b[1;33m)\u001b[0m\u001b[1;33m\u001b[0m\u001b[0m\n\u001b[0m",
      "\u001b[1;31mAttributeError\u001b[0m: module 'matplotlib.pyplot' has no attribute 'set_xlabel'"
     ]
    },
    {
     "data": {
      "image/png": "[encoded data removed]",
      "text/plain": [
       "<Figure size 432x288 with 1 Axes>"
      ]
     },
     "metadata": {},
     "output_type": "display_data"
    }
   ],
   "source": [
    "import numpy as np\n",
    "import matplotlib.pyplot as plt\n",
    " \n",
    "# 平均 50, 標準偏差 10 の正規乱数を1,000件生成\n",
    "x = np.random.normal(50, 10, 1000)\n",
    "plt.hist(x,bins=20)\n"
   ]
  },
  {
   "cell_type": "code",
   "execution_count": 90,
   "metadata": {},
   "outputs": [
    {
     "data": {
      "text/plain": [
       "\"\\nwords_frqには[('の', 9194)]というようにタブルで「単語、出現回数」が格納されているので\\nこれをもとに、{出現回数:種類の数}形式の辞書データを生成する。\\n\""
      ]
     },
     "execution_count": 90,
     "metadata": {},
     "output_type": "execute_result"
    }
   ],
   "source": [
    "# coding: utf-8\n",
    "# 文章中に出現する単語とその出現頻度を求め，出現頻度の高い順に並べよ．\n",
    "\n",
    "from janome.tokenizer import Tokenizer\n",
    "import janome\n",
    "import collections\n",
    "from collections import defaultdict\n",
    "\n",
    "#ファイルを整形する。\n",
    "# 形態素はタブ区切り、品詞等の分類はカンマ区切りなので以下の形式に整形したファイルを生成する。\n",
    "\n",
    "\n",
    "with open ('neko.txt.janome-01','r',encoding='utf-8') as f:\n",
    "    text = f.readlines()\n",
    "\n",
    "lst_janome=[]\n",
    "for line in text:\n",
    "    lst_janome.append(\n",
    "        { 'surface': line.split('\\t')[0], # 表層形\n",
    "          'pos'    : line.split('\\t')[1].split(',')[0], # 品詞\n",
    "          'pos1'   : line.split('\\t')[1].split(',')[1], # 品詞細分類1\n",
    "          'base'   : line.split('\\t')[1].split(',')[6]   # 基本形\n",
    "        })\n",
    "\n",
    "\n",
    "\"\"\"\n",
    "lst_janomeには以下のようなリストデータが生成される\n",
    "\n",
    "{'surface': '一', 'pos': '名詞', 'pos1': '数', 'base': '一'}\n",
    "{'surface': '吾輩', 'pos': '名詞', 'pos1': '代名詞', 'base': '吾輩'}\n",
    "{'surface': 'は', 'pos': '助詞', 'pos1': '係助詞', 'base': 'は'}\n",
    "{'surface': '猫', 'pos': '名詞', 'pos1': '一般', 'base': '猫'}\n",
    "{'surface': 'で', 'pos': '助動詞', 'pos1': '*', 'base': 'だ'}\n",
    "{'surface': 'ある', 'pos': '助動詞', 'pos1': '*', 'base': 'ある'}\n",
    "\n",
    "\"\"\"\n",
    "\n",
    "\n",
    "lst_tmp = []\n",
    "for janome in lst_janome:\n",
    "    lst_tmp.append(janome['surface'])  #単語リストを生成\n",
    "\n",
    "words_frq = collections.Counter(lst_tmp).most_common()  \n",
    "\n",
    "\"\"\"\n",
    "counterの例\n",
    "\n",
    " Counter('abracadabra').most_common(3)  \n",
    "　→　[('a', 5), ('r', 2), ('b', 2)]\n",
    "\n",
    "最も多い n 要素を、カウントが多いものから少ないものまで順に並べたリストを返します。 \n",
    "n が省略されるか None であれば、 most_common() はカウンタの すべての 要素を返します。\n",
    "等しいカウントの要素は任意に並べられます:\n",
    "\"\"\"\n",
    "\n",
    "#ここからグラフ描画設定\n",
    "\n",
    "\"\"\"\n",
    "words_frqには[('の', 9194)]というようにタブルで「単語、出現回数」が格納されているので\n",
    "これをもとに、{出現回数:種類の数}形式の辞書データを生成する。\n",
    "\"\"\"\n"
   ]
  },
  {
   "cell_type": "code",
   "execution_count": 95,
   "metadata": {},
   "outputs": [],
   "source": [
    "hist_freq1 = defaultdict(int)\n",
    "for word, freq in words_frq:\n",
    "    hist_freq1[freq] += 1\n",
    "\n",
    "\n",
    "hist_freq = []\n",
    "for word, freq in words_frq:\n",
    "    hist_freq.append(freq)\n",
    "\n"
   ]
  },
  {
   "cell_type": "code",
   "execution_count": 102,
   "metadata": {},
   "outputs": [
    {
     "data": {
      "text/plain": [
       "(array([   0., 6222., 2270., 1113.,  684.,  532.,  348.,  276.,  241.,\n",
       "         171.,  125.,  117.,  113.,  100.,   93.,   78.,   60.,   51.,\n",
       "         109.]),\n",
       " array([ 0,  1,  2,  3,  4,  5,  6,  7,  8,  9, 10, 11, 12, 13, 14, 15, 16,\n",
       "        17, 18, 19]),\n",
       " <a list of 19 Patch objects>)"
      ]
     },
     "execution_count": 102,
     "metadata": {},
     "output_type": "execute_result"
    },
    {
     "data": {
      "image/png": "[encoded data removed]",
      "text/plain": [
       "<Figure size 432x288 with 1 Axes>"
      ]
     },
     "metadata": {},
     "output_type": "display_data"
    }
   ],
   "source": [
    "#グラフ描画\n",
    "import matplotlib.pyplot as plt\n",
    "import japanize_matplotlib\n",
    "\n",
    "plt.hist(hist_freq,range(20))"
   ]
  },
  {
   "cell_type": "code",
   "execution_count": 105,
   "metadata": {},
   "outputs": [],
   "source": [
    "hist_freq = defaultdict(int)\n",
    "for word, freq in words_frq:\n",
    "    hist_freq[freq] += 1\n",
    "\n",
    "#freq1から単語鵜種類数だけを取得し、降順にする。\n",
    "freq = list(hist_freq.values())\n",
    "freq.sort(reverse=True)\n",
    "\n"
   ]
  },
  {
   "cell_type": "code",
   "execution_count": 109,
   "metadata": {},
   "outputs": [
    {
     "data": {
      "text/plain": [
       "[6222,\n",
       " 2270,\n",
       " 1113,\n",
       " 684,\n",
       " 532,\n",
       " 348,\n",
       " 276,\n",
       " 241,\n",
       " 171,\n",
       " 125,\n",
       " 117,\n",
       " 113,\n",
       " 100,\n",
       " 93,\n",
       " 78,\n",
       " 60,\n",
       " 59,\n",
       " 51,\n",
       " 51,\n",
       " 50,\n",
       " 36,\n",
       " 33,\n",
       " 30,\n",
       " 28,\n",
       " 25,\n",
       " 23,\n",
       " 23,\n",
       " 22,\n",
       " 21,\n",
       " 21,\n",
       " 20,\n",
       " 19,\n",
       " 17,\n",
       " 17,\n",
       " 16,\n",
       " 16,\n",
       " 15,\n",
       " 14,\n",
       " 13,\n",
       " 11,\n",
       " 10,\n",
       " 10,\n",
       " 10,\n",
       " 9,\n",
       " 8,\n",
       " 7,\n",
       " 7,\n",
       " 7,\n",
       " 7,\n",
       " 7,\n",
       " 7,\n",
       " 6,\n",
       " 6,\n",
       " 6,\n",
       " 6,\n",
       " 6,\n",
       " 5,\n",
       " 5,\n",
       " 5,\n",
       " 5,\n",
       " 5,\n",
       " 4,\n",
       " 4,\n",
       " 4,\n",
       " 4,\n",
       " 4,\n",
       " 4,\n",
       " 4,\n",
       " 4,\n",
       " 3,\n",
       " 3,\n",
       " 3,\n",
       " 3,\n",
       " 3,\n",
       " 3,\n",
       " 3,\n",
       " 3,\n",
       " 3,\n",
       " 3,\n",
       " 3,\n",
       " 3,\n",
       " 3,\n",
       " 3,\n",
       " 3,\n",
       " 3,\n",
       " 3,\n",
       " 3,\n",
       " 3,\n",
       " 3,\n",
       " 2,\n",
       " 2,\n",
       " 2,\n",
       " 2,\n",
       " 2,\n",
       " 2,\n",
       " 2,\n",
       " 2,\n",
       " 2,\n",
       " 2,\n",
       " 2,\n",
       " 2,\n",
       " 2,\n",
       " 2,\n",
       " 2,\n",
       " 2,\n",
       " 2,\n",
       " 2,\n",
       " 2,\n",
       " 2,\n",
       " 2,\n",
       " 2,\n",
       " 2,\n",
       " 2,\n",
       " 2,\n",
       " 2,\n",
       " 2,\n",
       " 2,\n",
       " 1,\n",
       " 1,\n",
       " 1,\n",
       " 1,\n",
       " 1,\n",
       " 1,\n",
       " 1,\n",
       " 1,\n",
       " 1,\n",
       " 1,\n",
       " 1,\n",
       " 1,\n",
       " 1,\n",
       " 1,\n",
       " 1,\n",
       " 1,\n",
       " 1,\n",
       " 1,\n",
       " 1,\n",
       " 1,\n",
       " 1,\n",
       " 1,\n",
       " 1,\n",
       " 1,\n",
       " 1,\n",
       " 1,\n",
       " 1,\n",
       " 1,\n",
       " 1,\n",
       " 1,\n",
       " 1,\n",
       " 1,\n",
       " 1,\n",
       " 1,\n",
       " 1,\n",
       " 1,\n",
       " 1,\n",
       " 1,\n",
       " 1,\n",
       " 1,\n",
       " 1,\n",
       " 1,\n",
       " 1,\n",
       " 1,\n",
       " 1,\n",
       " 1,\n",
       " 1,\n",
       " 1,\n",
       " 1,\n",
       " 1,\n",
       " 1,\n",
       " 1,\n",
       " 1,\n",
       " 1,\n",
       " 1,\n",
       " 1,\n",
       " 1,\n",
       " 1,\n",
       " 1,\n",
       " 1,\n",
       " 1,\n",
       " 1,\n",
       " 1,\n",
       " 1,\n",
       " 1,\n",
       " 1,\n",
       " 1,\n",
       " 1,\n",
       " 1,\n",
       " 1,\n",
       " 1,\n",
       " 1,\n",
       " 1,\n",
       " 1,\n",
       " 1,\n",
       " 1,\n",
       " 1,\n",
       " 1,\n",
       " 1,\n",
       " 1,\n",
       " 1,\n",
       " 1,\n",
       " 1,\n",
       " 1,\n",
       " 1,\n",
       " 1,\n",
       " 1,\n",
       " 1,\n",
       " 1,\n",
       " 1,\n",
       " 1,\n",
       " 1,\n",
       " 1,\n",
       " 1,\n",
       " 1,\n",
       " 1,\n",
       " 1,\n",
       " 1,\n",
       " 1,\n",
       " 1,\n",
       " 1,\n",
       " 1,\n",
       " 1,\n",
       " 1,\n",
       " 1,\n",
       " 1,\n",
       " 1,\n",
       " 1,\n",
       " 1,\n",
       " 1,\n",
       " 1,\n",
       " 1,\n",
       " 1,\n",
       " 1,\n",
       " 1,\n",
       " 1,\n",
       " 1,\n",
       " 1,\n",
       " 1,\n",
       " 1,\n",
       " 1,\n",
       " 1,\n",
       " 1,\n",
       " 1,\n",
       " 1,\n",
       " 1,\n",
       " 1,\n",
       " 1,\n",
       " 1,\n",
       " 1,\n",
       " 1,\n",
       " 1,\n",
       " 1,\n",
       " 1,\n",
       " 1,\n",
       " 1,\n",
       " 1]"
      ]
     },
     "execution_count": 109,
     "metadata": {},
     "output_type": "execute_result"
    }
   ],
   "source": [
    "freq"
   ]
  },
  {
   "cell_type": "code",
   "execution_count": null,
   "metadata": {},
   "outputs": [],
   "source": []
  },
  {
   "cell_type": "code",
   "execution_count": 108,
   "metadata": {},
   "outputs": [
    {
     "data": {
      "image/png": "[encoded data removed]",
      "text/plain": [
       "<Figure size 432x288 with 1 Axes>"
      ]
     },
     "metadata": {},
     "output_type": "display_data"
    }
   ],
   "source": [
    "\n",
    "#グラフ描画\n",
    "import matplotlib.pyplot as plt\n",
    "import japanize_matplotlib\n",
    "\n",
    "fig, ax = plt.subplots()\n",
    "fig.suptitle(\"出現頻度が高い10語とその出現頻度\")\n",
    "ax.hist(freq)\n",
    "ax.set_ylabel('頻度')\n",
    "ax.set_xlabel('単語カウント')\n",
    "plt.show()"
   ]
  },
  {
   "cell_type": "code",
   "execution_count": null,
   "metadata": {},
   "outputs": [],
   "source": []
  },
  {
   "cell_type": "code",
   "execution_count": null,
   "metadata": {},
   "outputs": [],
   "source": []
  },
  {
   "cell_type": "code",
   "execution_count": null,
   "metadata": {},
   "outputs": [],
   "source": []
  },
  {
   "cell_type": "code",
   "execution_count": null,
   "metadata": {},
   "outputs": [],
   "source": []
  },
  {
   "cell_type": "code",
   "execution_count": null,
   "metadata": {},
   "outputs": [],
   "source": []
  },
  {
   "cell_type": "code",
   "execution_count": null,
   "metadata": {},
   "outputs": [],
   "source": []
  },
  {
   "cell_type": "code",
   "execution_count": null,
   "metadata": {},
   "outputs": [],
   "source": []
  },
  {
   "cell_type": "code",
   "execution_count": null,
   "metadata": {},
   "outputs": [],
   "source": []
  },
  {
   "cell_type": "code",
   "execution_count": null,
   "metadata": {},
   "outputs": [],
   "source": []
  },
  {
   "cell_type": "code",
   "execution_count": null,
   "metadata": {},
   "outputs": [],
   "source": []
  },
  {
   "cell_type": "code",
   "execution_count": null,
   "metadata": {},
   "outputs": [],
   "source": []
  },
  {
   "cell_type": "code",
   "execution_count": null,
   "metadata": {},
   "outputs": [],
   "source": []
  },
  {
   "cell_type": "code",
   "execution_count": null,
   "metadata": {},
   "outputs": [],
   "source": []
  },
  {
   "cell_type": "code",
   "execution_count": null,
   "metadata": {},
   "outputs": [],
   "source": []
  },
  {
   "cell_type": "code",
   "execution_count": null,
   "metadata": {},
   "outputs": [],
   "source": []
  },
  {
   "cell_type": "code",
   "execution_count": null,
   "metadata": {},
   "outputs": [],
   "source": []
  },
  {
   "cell_type": "code",
   "execution_count": null,
   "metadata": {},
   "outputs": [],
   "source": [
    "\n",
    "for word, cnt in result[0:10]:\n",
    "  lst_words.append(word)\n",
    "  lst_count.append(cnt)"
   ]
  }
 ],
 "metadata": {
  "kernelspec": {
   "display_name": "Python 3",
   "language": "python",
   "name": "python3"
  },
  "language_info": {
   "codemirror_mode": {
    "name": "ipython",
    "version": 3
   },
   "file_extension": ".py",
   "mimetype": "text/x-python",
   "name": "python",
   "nbconvert_exporter": "python",
   "pygments_lexer": "ipython3",
   "version": "3.6.5"
  }
 },
 "nbformat": 4,
 "nbformat_minor": 2
}
