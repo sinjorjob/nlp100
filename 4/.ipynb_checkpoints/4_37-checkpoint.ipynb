{
 "cells": [
  {
   "cell_type": "code",
   "execution_count": 2,
   "metadata": {},
   "outputs": [],
   "source": [
    "# coding: utf-8\n",
    "# 出現頻度が高い10語とその出現頻度をグラフ（例えば棒グラフなど）で表示せよ．\n",
    "\n",
    "from janome.tokenizer import Tokenizer\n",
    "import janome\n",
    "from collections import defaultdict\n",
    "\n",
    "#ファイルを整形する。\n",
    "# 形態素はタブ区切り、品詞等の分類はカンマ区切りなので以下の形式に整形したファイルを生成する。\n",
    "\n",
    "\n",
    "with open ('neko.txt.janome-01','r',encoding='utf-8') as f:\n",
    "    text = f.readlines()\n",
    "\n",
    "lst_janome=[]\n",
    "for line in text:\n",
    "    lst_janome.append(\n",
    "        { 'surface': line.split('\\t')[0], # 表層形\n",
    "          'pos'    : line.split('\\t')[1].split(',')[0], # 品詞\n",
    "          'pos1'   : line.split('\\t')[1].split(',')[1], # 品詞細分類1\n",
    "          'base'   : line.split('\\t')[1].split(',')[6]   # 基本形\n",
    "        })\n",
    "\n",
    "\n",
    "\"\"\"\n",
    "lst_janomeには以下のようなリストデータが生成される\n",
    "\n",
    "{'surface': '一', 'pos': '名詞', 'pos1': '数', 'base': '一'}\n",
    "{'surface': '吾輩', 'pos': '名詞', 'pos1': '代名詞', 'base': '吾輩'}\n",
    "{'surface': 'は', 'pos': '助詞', 'pos1': '係助詞', 'base': 'は'}\n",
    "{'surface': '猫', 'pos': '名詞', 'pos1': '一般', 'base': '猫'}\n",
    "{'surface': 'で', 'pos': '助動詞', 'pos1': '*', 'base': 'だ'}\n",
    "{'surface': 'ある', 'pos': '助動詞', 'pos1': '*', 'base': 'ある'}\n",
    "\n",
    "\"\"\"\n",
    "\n",
    "count_dict = defaultdict(int)\n",
    "\n",
    "\n",
    "for row in lst_janome:\n",
    "    count_dict[row['surface']] += 1   #該当単語のcount_dictのカウントを＋１する。\n",
    "    \n",
    "\n",
    "    \"\"\" \n",
    "    lambda関数とsortedを組み合わせてcount_dictの値でソート。\n",
    "    reverse=Trueで降順指定。\n",
    "    x[1]で辞書の値を指定。\n",
    "    \"\"\"\n",
    "\n",
    "result = []\n",
    "for k, v in sorted(count_dict.items(), key=lambda x: x[1], reverse=True):\n",
    "    result.append({k:v})\n",
    "\n",
    "\n"
   ]
  },
  {
   "cell_type": "code",
   "execution_count": 74,
   "metadata": {},
   "outputs": [],
   "source": [
    "lst_words = [] \n",
    "lst_count = []\n",
    "\n",
    "for i in result[0:10]:\n",
    "    key, cnt = str(i).strip('{').strip('}').replace(\"'\",\"\").replace(\" \",\"\").split(':')\n",
    "    lst_words.append(key)\n",
    "    lst_count.append(int(cnt))"
   ]
  },
  {
   "cell_type": "code",
   "execution_count": 75,
   "metadata": {},
   "outputs": [
    {
     "data": {
      "text/plain": [
       "['の', '。', 'て', '、', 'は', 'に', 'を', 'と', 'が', 'た']"
      ]
     },
     "execution_count": 75,
     "metadata": {},
     "output_type": "execute_result"
    }
   ],
   "source": [
    "lst_words"
   ]
  },
  {
   "cell_type": "code",
   "execution_count": 76,
   "metadata": {},
   "outputs": [
    {
     "data": {
      "text/plain": [
       "[9194, 7486, 6865, 6772, 6420, 6239, 6067, 5505, 5336, 3988]"
      ]
     },
     "execution_count": 76,
     "metadata": {},
     "output_type": "execute_result"
    }
   ],
   "source": [
    "lst_count"
   ]
  },
  {
   "cell_type": "code",
   "execution_count": 78,
   "metadata": {},
   "outputs": [
    {
     "data": {
      "image/png": "[encoded data removed]",
      "text/plain": [
       "<Figure size 432x288 with 1 Axes>"
      ]
     },
     "metadata": {},
     "output_type": "display_data"
    }
   ],
   "source": [
    "import matplotlib.pyplot as plt\n",
    "import japanize_matplotlib\n",
    "\n",
    "fig, ax = plt.subplots()\n",
    "fig.suptitle(\"出現頻度が高い10語とその出現頻度\")\n",
    "x = lst_words\n",
    "y = lst_count\n",
    "ax.bar(x,y)\n",
    "plt.show()\n"
   ]
  },
  {
   "cell_type": "code",
   "execution_count": null,
   "metadata": {},
   "outputs": [],
   "source": []
  },
  {
   "cell_type": "code",
   "execution_count": null,
   "metadata": {},
   "outputs": [],
   "source": []
  },
  {
   "cell_type": "code",
   "execution_count": null,
   "metadata": {},
   "outputs": [],
   "source": []
  },
  {
   "cell_type": "code",
   "execution_count": null,
   "metadata": {},
   "outputs": [],
   "source": []
  },
  {
   "cell_type": "code",
   "execution_count": null,
   "metadata": {},
   "outputs": [],
   "source": []
  },
  {
   "cell_type": "code",
   "execution_count": null,
   "metadata": {},
   "outputs": [],
   "source": []
  },
  {
   "cell_type": "code",
   "execution_count": null,
   "metadata": {},
   "outputs": [],
   "source": []
  },
  {
   "cell_type": "code",
   "execution_count": null,
   "metadata": {},
   "outputs": [],
   "source": []
  },
  {
   "cell_type": "code",
   "execution_count": null,
   "metadata": {},
   "outputs": [],
   "source": []
  },
  {
   "cell_type": "code",
   "execution_count": null,
   "metadata": {},
   "outputs": [],
   "source": []
  },
  {
   "cell_type": "code",
   "execution_count": null,
   "metadata": {},
   "outputs": [],
   "source": []
  },
  {
   "cell_type": "code",
   "execution_count": null,
   "metadata": {},
   "outputs": [],
   "source": []
  },
  {
   "cell_type": "code",
   "execution_count": null,
   "metadata": {},
   "outputs": [],
   "source": []
  },
  {
   "cell_type": "code",
   "execution_count": null,
   "metadata": {},
   "outputs": [],
   "source": []
  },
  {
   "cell_type": "code",
   "execution_count": null,
   "metadata": {},
   "outputs": [],
   "source": []
  },
  {
   "cell_type": "code",
   "execution_count": null,
   "metadata": {},
   "outputs": [],
   "source": []
  },
  {
   "cell_type": "code",
   "execution_count": null,
   "metadata": {},
   "outputs": [],
   "source": []
  },
  {
   "cell_type": "code",
   "execution_count": null,
   "metadata": {},
   "outputs": [],
   "source": []
  },
  {
   "cell_type": "code",
   "execution_count": null,
   "metadata": {},
   "outputs": [],
   "source": [
    "\n",
    "for word, cnt in result[0:10]:\n",
    "  lst_words.append(word)\n",
    "  lst_count.append(cnt)"
   ]
  }
 ],
 "metadata": {
  "kernelspec": {
   "display_name": "Python 3",
   "language": "python",
   "name": "python3"
  },
  "language_info": {
   "codemirror_mode": {
    "name": "ipython",
    "version": 3
   },
   "file_extension": ".py",
   "mimetype": "text/x-python",
   "name": "python",
   "nbconvert_exporter": "python",
   "pygments_lexer": "ipython3",
   "version": "3.6.5"
  }
 },
 "nbformat": 4,
 "nbformat_minor": 2
}
